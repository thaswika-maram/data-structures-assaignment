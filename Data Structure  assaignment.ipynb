{
 "cells": [
  {
   "cell_type": "markdown",
   "id": "69aabaf9",
   "metadata": {},
   "source": [
    "# Data types and structures questions"
   ]
  },
  {
   "cell_type": "markdown",
   "id": "cfc0b6a8",
   "metadata": {},
   "source": [
    "1. What are data structures, and why are they important?\n",
    "- Data structures are organized ways to store, manage, and organize data so it can be used efficiently.\n",
    "- Common Types of Data Structures\n",
    "    - Arrays – Fixed-size collections of elements of the same type.\n",
    "    - Linked Lists – Elements (nodes) connected via pointers.\n",
    "    - Stacks – LIFO (Last In, First Out) structure.\n",
    "    - Queues – FIFO (First In, First Out) structure.\n",
    "    - Trees – Hierarchical structure (e.g., binary trees).\n",
    "    - Graphs – Networks of connected nodes.\n",
    "    - Hash Tables – Key-value pairs for fast lookups.\n",
    "- Why They're Important :\n",
    "    - Faster operations (search, insert, delete)\n",
    "    - Better code organization\n",
    "    - Improves algorithm performance\n",
    "    - Used in real-world apps like search engines, databases, and games"
   ]
  },
  {
   "cell_type": "markdown",
   "id": "90ee75ea",
   "metadata": {},
   "source": [
    "2. Explain the difference between mutable and immutable data types with examples?\n",
    "- Mutable vs Immutable Data Types\n",
    "  1. Mutable Data Types\n",
    "     - Can be changed after creation\n",
    "     - You can modify, add, or remove elements.\n",
    "  - Examples in Python:\n",
    "     - list, dict, set\n",
    "  2. Immutable Data Types\n",
    "     - Cannot be changed after creation\n",
    "     - Any \"change\" creates a new object.\n",
    "  - Examples in Python:\n",
    "     - int, float, str, tuple\n"
   ]
  },
  {
   "cell_type": "markdown",
   "id": "16f248cb",
   "metadata": {},
   "source": [
    "3. What are the main differences between lists and tuples in Python ?\n",
    "- Mutability\n",
    "    - Lists are mutable, meaning their elements can be changed after creation (you can add, remove, or modify items).\n",
    "    - Tuples are immutable, meaning once they are created, their contents cannot be changed.\n",
    "- Syntax\n",
    "    - Lists use square brackets: [ ]\n",
    "    - Tuples use parentheses: ( )\n",
    "- Performance\n",
    "    - Tuples are generally faster than lists because they are immutable and have less overhead.\n",
    "- Methods\n",
    "    - Lists have more built-in methods (like .append(), .remove(), etc.)\n",
    "    - Tuples have fewer methods since they cannot be modified.\n",
    "- Use Cases\n",
    "    - Use lists when you need a collection of items that may change.\n",
    "    - Use tuples when the data should remain constant and unchanged (e.g., coordinates, fixed configuration values)."
   ]
  },
  {
   "cell_type": "markdown",
   "id": "ab1756b4",
   "metadata": {},
   "source": [
    "4. Describe how dictionaries store data ?\n",
    "- A dictionary in Python is a collection of key-value pairs, where each key is unique and maps to a specific value. Dictionaries are commonly used when you need to associate values with specific identifiers (keys), like a contact list where the key is the contact name and the value is the phone number.\n",
    "- Advantages of Using Dictionaries:\n",
    "    - Fast Access: Due to hashing, dictionaries allow for quick retrieval of values by their associated keys.\n",
    "    - Flexible Structure: Dictionaries can store a variety of data types as values (e.g., integers, strings, lists, etc.).\n",
    "    - Easy to Modify: Keys and values can be added, modified, or removed efficiently."
   ]
  },
  {
   "cell_type": "markdown",
   "id": "e28caf04",
   "metadata": {},
   "source": [
    "5. Why might you use a set instead of a list in Python ?\n",
    "- Uniqueness of Elements\n",
    "   - Set: Automatically removes duplicates.\n",
    "   - List: Allows duplicates.\n",
    "   - Use a set when you need unique elements.\n",
    "- Faster Membership Test\n",
    "   - Set: O(1) time complexity for checking if an element exists.\n",
    "   - List: O(n) time complexity.\n",
    "   - Use a set when you need fast lookups.\n",
    "- Set Operations\n",
    "   - Set: Supports union, intersection, and difference operations.\n",
    "   - List: No direct support for set operations.\n",
    "   - Use a set when you need to perform set-like operations.\n",
    "\n"
   ]
  },
  {
   "cell_type": "markdown",
   "id": "8b7be82f",
   "metadata": {},
   "source": [
    "6. What is a string in Python, and how is it different from a list ?\n",
    "- string in Python is a sequence of characters enclosed in either single (') or double (\") quotes. Strings are immutable, meaning once created, they cannot be modified.\n",
    "- Mutability:\n",
    "    - Strings are immutable: Once a string is created, its value cannot be changed.\n",
    "    - Lists are mutable: You can modify, add, or remove elements in a list.\n",
    "- Element Types:\n",
    "    - Strings can only store characters.\n",
    "    - Lists can store different types of data (integers, floats, strings, etc.).\n",
    "- Syntax:\n",
    "    - Strings are enclosed in quotes (single or double).\n",
    "    - Lists are enclosed in square brackets.\n",
    "- Operations:\n",
    "    - Strings have string-specific methods like .upper(), .lower(), and .split().\n",
    "    - Lists have list-specific methods like .append(), .remove(), and .extend().\n",
    "- Indexing/Iteration:\n",
    "    - Both strings and lists are indexable and iterable, meaning you can access individual elements by their index and loop through them.\n",
    "\n",
    "\n",
    "\n",
    "\n",
    "\n",
    "\n",
    "\n",
    "\n",
    "\n"
   ]
  },
  {
   "cell_type": "markdown",
   "id": "bc31ad64",
   "metadata": {},
   "source": [
    "7. How do tuples ensure data integrity in Python ?\n",
    "- Tuples in Python ensure data integrity through immutability. Once created, their contents cannot be modified (no adding, removing, or changing elements). This prevents accidental data changes and guarantees that the data remains consistent throughout the program. Additionally, tuples are hashable, allowing them to be used as dictionary keys and set elements, further ensuring their reliability. Their immutability and fixed structure also make them more memory-efficient and faster than lists, contributing to better performance and data consistency.\n"
   ]
  },
  {
   "cell_type": "markdown",
   "id": "64d8ba46",
   "metadata": {},
   "source": [
    "8. What is a hash table, and how does it relate to dictionaries in Python ?\n",
    "- How a Hash Table Works:\n",
    "    - Hashing: When a key is provided, a hash function is applied to convert the key into an integer, which determines the index where the corresponding value is stored in an array.\n",
    "    - Collision Handling: If two keys hash to the same index (a collision), various strategies (like chaining or open addressing) are used to handle this conflict and store the elements.\n",
    "    - Efficiency: The primary advantage of a hash table is that it allows for constant-time average lookups, insertions, and deletions (O(1)).\n",
    "- Relation to Python Dictionaries:\n",
    "In Python, dictionaries are implemented using hash tables. Each key in a dictionary is hashed, and its corresponding value is stored in the table at the index determined by the hash. This is why dictionary operations like getting, setting, and checking for keys are generally very fast (O(1) on average)."
   ]
  },
  {
   "cell_type": "markdown",
   "id": "79e6908b",
   "metadata": {},
   "source": [
    "9. Can lists contain different data types in Python ?\n",
    "- Yes, lists in Python can contain different data types. Python is a dynamically typed language, meaning that a list can hold elements of various types, including integers, strings, floats, and even other lists or custom objects.\n",
    "- Example \n",
    "    - my_list = [42, \"Hello\", 3.14, True, [1, 2, 3]]\n",
    "- Explanation:\n",
    "    - 42 is an integer.\n",
    "    - \"Hello\" is a string.\n",
    "    - 3.14 is a float.\n",
    "    - True is a boolean.\n",
    "   - [1, 2, 3] is a list within the list (nested list)."
   ]
  },
  {
   "cell_type": "markdown",
   "id": "ab8a3920",
   "metadata": {},
   "source": [
    " 10. Explain why strings are immutable in Python ?\n",
    "- Strings are immutable in Python for several key reasons, which help optimize performance, ensure security, and maintain consistency in handling text data. Here’s why:\n",
    "   - Performance Optimization: Immutability allows Python to reuse identical strings efficiently, saving memory.\n",
    "   - Hashing: Since strings are immutable, their hash values remain constant, making them reliable as dictionary keys or set elements.\n",
    "   - Security: Immutability prevents accidental changes to string data, ensuring safe use in multi-threaded environments.\n",
    "    - Predictability: Immutable strings ensure their content doesn't change, making code more predictable and easier to debug.\n",
    "    - Internal Optimization: Python can optimize memory management and string interning due to their immutability.\n",
    "\n"
   ]
  },
  {
   "cell_type": "markdown",
   "id": "f739389b",
   "metadata": {},
   "source": [
    "11. What advantages do dictionaries offer over lists for certain tasks ?\n",
    "- Fast Lookups:\n",
    "    - Dictionaries provide O(1) average-time complexity for lookups using keys.\n",
    "    - Lists require O(n) time to search for a value.\n",
    "- Key-Based Access:\n",
    "    - Dictionaries allow access to values using custom keys (like strings or numbers).\n",
    "    - Lists use only numeric indexes.\n",
    "- More Descriptive Data Representation:\n",
    "    - Dictionaries make code more readable by using key-value pairs.\n",
    "-  Avoid Duplicates:\n",
    "    - Dictionary keys are unique, which helps prevent duplicate entries for the same key.\n",
    "- Flexible Data Mapping:\n",
    "    - Ideal for creating mappings like ID-to-name, word-to-definition, etc."
   ]
  },
  {
   "cell_type": "markdown",
   "id": "70b91822",
   "metadata": {},
   "source": [
    "12. Describe a scenario where using a tuple would be preferable over a list ?\n",
    "- Example: Storing GPS coordinates of a location\n",
    "    -  location = (40.7128, -74.0060)  # Latitude, Longitude\n",
    "- Why tuple is preferable:\n",
    "    - Immutability: Coordinates shouldn't change accidentally—tuples prevent modification.\n",
    "    - Data integrity: Ensures the structure remains constant (e.g., always two values).\n",
    "    - Performance: Tuples are slightly faster and use less memory than lists.\n",
    "    - Hashable: Tuples can be used as keys in dictionaries or elements in sets.\n"
   ]
  },
  {
   "cell_type": "markdown",
   "id": "da83e509",
   "metadata": {},
   "source": [
    "13. How do sets handle duplicate values in Python ?\n",
    "- A set is an unordered collection of unique elements.\n",
    "- When you add duplicate values to a set, only one copy is kept.\n",
    "- Sets use hashing to track elements.\n",
    "- Before adding a new element, Python checks if it already exists in the set.\n",
    "- If it's a duplicate, it is ignored.\n",
    "- Sets ensure uniqueness by automatically discarding duplicate values. Use them when you need to store a collection of distinct items."
   ]
  },
  {
   "cell_type": "markdown",
   "id": "6ab871a0",
   "metadata": {},
   "source": [
    "14. How does the “in” keyword work differently for lists and dictionaries ?\n",
    "- In Lists:\n",
    "    - Checks if a value exists in the list.\n",
    "- In Dictionaries:\n",
    "    - Checks if a key exists in the dictionary — not the value.\n"
   ]
  },
  {
   "cell_type": "markdown",
   "id": "3a91b1cb",
   "metadata": {},
   "source": [
    "15. Can you modify the elements of a tuple? Explain why or why not ?\n",
    "- No, you cannot modify the elements of a tuple in Python.\n",
    "- Because tuples are immutable — once created, their elements cannot be changed, added, or removed.\n",
    "- This ensures consistency, safety, and performance in Python programs.\n",
    "- Why immutability?\n",
    "     - Data integrity: Prevents accidental changes\n",
    "     - Hashable: Tuples can be used as dictionary keys\n",
    "     - Performance: Faster and memory-efficient\n"
   ]
  },
  {
   "cell_type": "markdown",
   "id": "cfdc0e5e",
   "metadata": {},
   "source": [
    "16. What is a nested dictionary, and give an example of its use case ?\n",
    "- A nested dictionary is a dictionary inside another dictionary. It allows you to store hierarchical or structured data using multiple levels of key-value pairs.\n",
    "- Nested dictionaries are ideal for representing structured data, such as:\n",
    "    - Student records\n",
    "    - Employee databases\n",
    "    - Inventory systems\n",
    "    - JSON-like APIs\n"
   ]
  },
  {
   "cell_type": "markdown",
   "id": "048efeb7",
   "metadata": {},
   "source": [
    "17. Describe the time complexity of accessing elements in a dictionary ?\n",
    "- Time Complexity of Accessing Elements in a Dictionary:\n",
    "    - Average case: O(1) (constant time)\n",
    "    - Worst case: O(n) (linear time, but this is rare)\n",
    "- Average Case (O(1)):   \n",
    "    - Accessing an element by key is constant time on average.\n",
    "    - This is because Python computes the hash value of the key and directly accesses the corresponding value using that hash.\n",
    "-  Worst Case (O(n)):\n",
    "    - In rare situations (e.g., hash collisions or if the hash table needs resizing), the time complexity can degrade to O(n).\n",
    "    - This happens if many keys hash to the same index, causing the dictionary to fall back to a slower linear search for the key."
   ]
  },
  {
   "cell_type": "markdown",
   "id": "825e454c",
   "metadata": {},
   "source": [
    "18. In what situations are lists preferred over dictionaries ?\n",
    "- Lists are preferred over dictionaries in the following situations:\n",
    "    1. Ordered Data:\n",
    "       - If the order of elements matters (i.e., you need to maintain the sequence of items), lists are the better choice. Lists preserve the order of elements, while dictionaries (in versions before Python 3.7) didn't guarantee order (though they do in Python 3.7+).\n",
    "    2. Accessing by Index:\n",
    "       - If you need to access elements by a specific index rather than a key, lists are better. Lists allow you to use numeric indices for access, while dictionaries use keys.\n",
    "    3. Homogeneous Data:\n",
    "       - Lists are ideal for storing homogeneous data (i.e., elements of the same type), where the relationship between elements is not key-value based. In cases where the data doesn't require a specific key to access, a list is simpler and more efficient.\n",
    "    4. When You Need to Maintain Duplicates: \n",
    "       - If you need to store multiple identical items, lists are the better option because dictionaries require unique keys and cannot store duplicate keys.\n",
    "    5.  Simple Iteration: \n",
    "        - Lists are better suited for situations where you need to iterate over elements in a simple, linear fashion. While dictionaries can be iterated over keys, values, or key-value pairs, lists are often more intuitive and efficient for simple iteration.\n"
   ]
  },
  {
   "cell_type": "markdown",
   "id": "b38177df",
   "metadata": {},
   "source": [
    "19. Why are dictionaries considered unordered, and how does that affect data retrieval ?\n",
    "- Why are dictionaries considered unordered, and how does that affect data retrieval.\n",
    "    - The internal structure of a dictionary is based on a hash table.\n",
    "    - The keys in the dictionary are hashed to a specific location in memory, but there is no guarantee about the order in which the keys are stored or retrieved.\n",
    "- Effect on Data Retrieval:\n",
    "1. Before Python 3.7 (unordered):\n",
    "    - The retrieval order of keys or values was not guaranteed.\n",
    "    - If you needed data in a specific order, you'd have to sort it explicitly after retrieval, as dictionaries didn't retain order.\n",
    "2. Starting Python 3.7 (insertion order preserved):\n",
    "    - Insertion order is guaranteed. This means that the order of keys as they were inserted into the dictionary will be preserved when iterating over them.\n",
    "    - However, while the order is preserved, dictionaries are still optimized for fast key lookups rather than ordered access, so retrieval speed (O(1) on average) remains efficient."
   ]
  },
  {
   "cell_type": "markdown",
   "id": "8d6f169a",
   "metadata": {},
   "source": [
    "20. Explain the difference between a list and a dictionary in terms of data retrieval ?\n",
    "    1.  Accessing Data in a List:\n",
    "       - Data Structure: A list is an ordered collection of items, accessed by their index (integer positions).\n",
    "       - Access Method: To retrieve an item from a list, you use its index (position).\n",
    "       - Time Complexity: O(1) for retrieving an item by index.\n",
    "    2.  Accessing Data in a Dictionary:\n",
    "       - Data Structure: A dictionary is a key-value pair mapping, where data is accessed using keys (which can be any immutable type like strings, numbers, or tuples).\n",
    "       - Access Method: You retrieve values by specifying the key, not the index.\n",
    "       - Time Complexity: O(1) on average for key-based lookup, as dictionaries are implemented using hash tables for efficient access.\n"
   ]
  },
  {
   "cell_type": "markdown",
   "id": "06d4d6e8",
   "metadata": {},
   "source": [
    "# Practical questions"
   ]
  },
  {
   "cell_type": "code",
   "execution_count": 1,
   "id": "6dbeec36",
   "metadata": {},
   "outputs": [
    {
     "name": "stdout",
     "output_type": "stream",
     "text": [
      "My name is: Thaswika maram\n"
     ]
    }
   ],
   "source": [
    "# 1.Write a code to create a string with your name and print it\n",
    "\n",
    "name = \"Thaswika maram\"\n",
    "print(\"My name is:\", name)\n"
   ]
  },
  {
   "cell_type": "code",
   "execution_count": 2,
   "id": "b42ced5d",
   "metadata": {},
   "outputs": [
    {
     "name": "stdout",
     "output_type": "stream",
     "text": [
      "Length of the string: 11\n"
     ]
    }
   ],
   "source": [
    "# 2.Write a code to find the length of the string \"Hello World\".\n",
    "\n",
    "text = \"Hello World\"\n",
    "length = len(text)\n",
    "# Print the length\n",
    "print(\"Length of the string:\", length)\n"
   ]
  },
  {
   "cell_type": "code",
   "execution_count": 3,
   "id": "6dcdbd1e",
   "metadata": {},
   "outputs": [
    {
     "name": "stdout",
     "output_type": "stream",
     "text": [
      "First 3 characters: Pyt\n"
     ]
    }
   ],
   "source": [
    "# 3.Write a code to slice the first 3 characters from the string \"Python Programming\"\n",
    "\n",
    "# Define the string\n",
    "text = \"Python Programming\"\n",
    "\n",
    "# Slice the first 3 characters\n",
    "sliced = text[:3]\n",
    "\n",
    "# Print the result\n",
    "print(\"First 3 characters:\", sliced)\n"
   ]
  },
  {
   "cell_type": "code",
   "execution_count": 4,
   "id": "1518a449",
   "metadata": {},
   "outputs": [
    {
     "name": "stdout",
     "output_type": "stream",
     "text": [
      "Uppercase: HELLO\n"
     ]
    }
   ],
   "source": [
    "# 4.Write a code to convert the string \"hello\" to uppercase.\n",
    "\n",
    "\n",
    "# Define the string\n",
    "text = \"hello\"\n",
    "# Convert to uppercase\n",
    "uppercase_text = text.upper()\n",
    "# Print the result\n",
    "print(\"Uppercase:\", uppercase_text)\n",
    "\n"
   ]
  },
  {
   "cell_type": "code",
   "execution_count": 5,
   "id": "096dd206",
   "metadata": {},
   "outputs": [
    {
     "name": "stdout",
     "output_type": "stream",
     "text": [
      "Updated string: I like orange\n"
     ]
    }
   ],
   "source": [
    "# 5.Write a code to replace the word \"apple\" with \"orange\" in the string \"I like apple\".\n",
    "\n",
    "# Define the string\n",
    "text = \"I like apple\"\n",
    "# Replace \"apple\" with \"orange\"\n",
    "new_text = text.replace(\"apple\", \"orange\")\n",
    "# Print the result\n",
    "print(\"Updated string:\", new_text)\n",
    "\n"
   ]
  },
  {
   "cell_type": "code",
   "execution_count": 6,
   "id": "9eb531df",
   "metadata": {},
   "outputs": [
    {
     "name": "stdout",
     "output_type": "stream",
     "text": [
      "List of numbers: [1, 2, 3, 4, 5]\n"
     ]
    }
   ],
   "source": [
    "# 6.Write a code to create a list with numbers 1 to 5 and print it.\n",
    "\n",
    "# Create a list with numbers 1 to 5\n",
    "numbers = [1, 2, 3, 4, 5]\n",
    "# Print the list\n",
    "print(\"List of numbers:\", numbers)\n"
   ]
  },
  {
   "cell_type": "code",
   "execution_count": 7,
   "id": "4cab4375",
   "metadata": {},
   "outputs": [
    {
     "name": "stdout",
     "output_type": "stream",
     "text": [
      "Updated list: [1, 2, 3, 4, 10]\n"
     ]
    }
   ],
   "source": [
    "# 7. Write a code to append the number 10 to the list [1, 2, 3, 4]\n",
    "\n",
    "# Define the list\n",
    "numbers = [1, 2, 3, 4]\n",
    "# Append 10 to the list\n",
    "numbers.append(10)\n",
    "# Print the updated list\n",
    "print(\"Updated list:\", numbers)\n"
   ]
  },
  {
   "cell_type": "code",
   "execution_count": 8,
   "id": "a0f5949e",
   "metadata": {},
   "outputs": [
    {
     "name": "stdout",
     "output_type": "stream",
     "text": [
      "Updated list: [1, 2, 4, 5]\n"
     ]
    }
   ],
   "source": [
    "# 8.Write a code to remove the number 3 from the list [1, 2, 3, 4, 5]\n",
    "\n",
    "# Define the list\n",
    "numbers = [1, 2, 3, 4, 5]\n",
    "# Remove the number 3\n",
    "numbers.remove(3)\n",
    "# Print the updated list\n",
    "print(\"Updated list:\", numbers)\n"
   ]
  },
  {
   "cell_type": "code",
   "execution_count": 9,
   "id": "c2c8e10d",
   "metadata": {},
   "outputs": [
    {
     "name": "stdout",
     "output_type": "stream",
     "text": [
      "Second element: b\n"
     ]
    }
   ],
   "source": [
    "# 9.Write a code to access the second element in the list ['a', 'b', 'c', 'd']\n",
    "\n",
    "# Define the list\n",
    "letters = ['a', 'b', 'c', 'd']\n",
    "# Access the second element (index 1)\n",
    "second_element = letters[1]\n",
    "# Print the second element\n",
    "print(\"Second element:\", second_element)\n"
   ]
  },
  {
   "cell_type": "code",
   "execution_count": 10,
   "id": "39d45c30",
   "metadata": {},
   "outputs": [
    {
     "name": "stdout",
     "output_type": "stream",
     "text": [
      "Reversed list: [50, 40, 30, 20, 10]\n"
     ]
    }
   ],
   "source": [
    "# 10.Write a code to reverse the list [10, 20, 30, 40, 50].\n",
    "\n",
    "# Define the list\n",
    "numbers = [10, 20, 30, 40, 50]\n",
    "# Reverse the list using reverse() method\n",
    "numbers.reverse()\n",
    "# Print the reversed list\n",
    "print(\"Reversed list:\", numbers)\n"
   ]
  },
  {
   "cell_type": "code",
   "execution_count": 11,
   "id": "250d11a3",
   "metadata": {},
   "outputs": [
    {
     "name": "stdout",
     "output_type": "stream",
     "text": [
      "Tuple: (100, 200, 300)\n"
     ]
    }
   ],
   "source": [
    "# 11.Write a code to create a tuple with the elements 100, 200, 300 and print it.\n",
    "\n",
    "# Create a tuple with the elements 100, 200, 300\n",
    "my_tuple = (100, 200, 300)\n",
    "# Print the tuple\n",
    "print(\"Tuple:\", my_tuple)"
   ]
  },
  {
   "cell_type": "code",
   "execution_count": 12,
   "id": "6904b8ec",
   "metadata": {},
   "outputs": [
    {
     "name": "stdout",
     "output_type": "stream",
     "text": [
      "Second-to-last element: blue\n"
     ]
    }
   ],
   "source": [
    "# 12.Write a code to access the second-to-last element of the tuple ('red', 'green', 'blue', 'yellow').\n",
    "\n",
    "# Define the tuple\n",
    "colors = ('red', 'green', 'blue', 'yellow')\n",
    "# Access the second-to-last element using negative indexing\n",
    "second_to_last = colors[-2]\n",
    "# Print the second-to-last element\n",
    "print(\"Second-to-last element:\", second_to_last)\n"
   ]
  },
  {
   "cell_type": "code",
   "execution_count": 13,
   "id": "749452fc",
   "metadata": {},
   "outputs": [
    {
     "name": "stdout",
     "output_type": "stream",
     "text": [
      "Minimum number: 5\n"
     ]
    }
   ],
   "source": [
    "# 13.Write a code to find the minimum number in the tuple (10, 20, 5, 15)\n",
    "\n",
    "\n",
    "# Define the tuple\n",
    "numbers = (10, 20, 5, 15)\n",
    "# Find the minimum number using the min() function\n",
    "min_number = min(numbers)\n",
    "# Print the minimum number\n",
    "print(\"Minimum number:\", min_number)\n",
    "\n"
   ]
  },
  {
   "cell_type": "code",
   "execution_count": 14,
   "id": "6039d9dc",
   "metadata": {},
   "outputs": [
    {
     "name": "stdout",
     "output_type": "stream",
     "text": [
      "Index of 'cat': 1\n"
     ]
    }
   ],
   "source": [
    "# 14.Write a code to find the index of the element \"cat\" in the tuple ('dog', 'cat', 'rabbit')\n",
    "\n",
    "# Define the tuple\n",
    "animals = ('dog', 'cat', 'rabbit')\n",
    "# Find the index of the element \"cat\"\n",
    "index_of_cat = animals.index('cat')\n",
    "# Print the index\n",
    "print(\"Index of 'cat':\", index_of_cat)\n"
   ]
  },
  {
   "cell_type": "code",
   "execution_count": 15,
   "id": "677a4d6b",
   "metadata": {},
   "outputs": [
    {
     "name": "stdout",
     "output_type": "stream",
     "text": [
      "Kiwi is not in the tuple.\n"
     ]
    }
   ],
   "source": [
    "# 15.Write a code to create a tuple containing three different fruits and check if \"kiwi\" is in it.\n",
    "\n",
    "# Create a tuple with three different fruits\n",
    "fruits = ('apple', 'banana', 'cherry')\n",
    "# Check if \"kiwi\" is in the tuple\n",
    "if 'kiwi' in fruits:\n",
    "    print(\"Kiwi is in the tuple.\")\n",
    "else:\n",
    "    print(\"Kiwi is not in the tuple.\")\n"
   ]
  },
  {
   "cell_type": "code",
   "execution_count": 16,
   "id": "9aee2d5a",
   "metadata": {},
   "outputs": [
    {
     "name": "stdout",
     "output_type": "stream",
     "text": [
      "Set: {'c', 'a', 'b'}\n"
     ]
    }
   ],
   "source": [
    "# 16.Write a code to create a set with the elements 'a', 'b', 'c' and print it.\n",
    "\n",
    "# Create a set with the elements 'a', 'b', 'c'\n",
    "my_set = {'a', 'b', 'c'}\n",
    "# Print the set\n",
    "print(\"Set:\", my_set)\n"
   ]
  },
  {
   "cell_type": "code",
   "execution_count": 17,
   "id": "f92096b4",
   "metadata": {},
   "outputs": [
    {
     "name": "stdout",
     "output_type": "stream",
     "text": [
      "Cleared set: set()\n"
     ]
    }
   ],
   "source": [
    "# 17.Write a code to clear all elements from the set {1, 2, 3, 4, 5}\n",
    "\n",
    "# Define the set\n",
    "my_set = {1, 2, 3, 4, 5}\n",
    "# Clear all elements from the set\n",
    "my_set.clear()\n",
    "# Print the cleared set\n",
    "print(\"Cleared set:\", my_set)\n"
   ]
  },
  {
   "cell_type": "code",
   "execution_count": 18,
   "id": "2831f478",
   "metadata": {},
   "outputs": [
    {
     "name": "stdout",
     "output_type": "stream",
     "text": [
      "Updated set: {1, 2, 3}\n"
     ]
    }
   ],
   "source": [
    "# 18.Write a code to remove the element 4 from the set {1, 2, 3, 4}.\n",
    "\n",
    "# Define the set\n",
    "my_set = {1, 2, 3, 4}\n",
    "# Remove the element 4\n",
    "my_set.remove(4)\n",
    "# Print the updated set\n",
    "print(\"Updated set:\", my_set)\n"
   ]
  },
  {
   "cell_type": "code",
   "execution_count": 19,
   "id": "eee38c2c",
   "metadata": {},
   "outputs": [
    {
     "name": "stdout",
     "output_type": "stream",
     "text": [
      "Union of the sets: {1, 2, 3, 4, 5}\n"
     ]
    }
   ],
   "source": [
    "# 19.write a code to find the union of two sets {1, 2, 3} and {3, 4, 5}\n",
    "\n",
    "\n",
    "# Define the two sets\n",
    "set1 = {1, 2, 3}\n",
    "set2 = {3, 4, 5}\n",
    "# Find the union of the two sets\n",
    "union_set = set1.union(set2)\n",
    "# Print the union of the sets\n",
    "print(\"Union of the sets:\", union_set)\n"
   ]
  },
  {
   "cell_type": "code",
   "execution_count": 20,
   "id": "6fc2ea8a",
   "metadata": {},
   "outputs": [
    {
     "name": "stdout",
     "output_type": "stream",
     "text": [
      "Intersection of the sets: {2, 3}\n"
     ]
    }
   ],
   "source": [
    "# 20. Write a code to find the intersection of two sets {1, 2, 3} and {2, 3, 4}\n",
    "\n",
    "# Define the two sets\n",
    "set1 = {1, 2, 3}\n",
    "set2 = {2, 3, 4}\n",
    "# Find the intersection of the two sets\n",
    "intersection_set = set1.intersection(set2)\n",
    "# Print the intersection of the sets\n",
    "print(\"Intersection of the sets:\", intersection_set)\n"
   ]
  },
  {
   "cell_type": "code",
   "execution_count": 21,
   "id": "6e7d2a52",
   "metadata": {},
   "outputs": [
    {
     "name": "stdout",
     "output_type": "stream",
     "text": [
      "Dictionary: {'name': 'John', 'age': 30, 'city': 'New York'}\n"
     ]
    }
   ],
   "source": [
    "# 21.Write a code to create a dictionary with the keys \"name\", \"age\", and \"city\", and print it\n",
    "\n",
    "# Create a dictionary\n",
    "person = {\n",
    "    \"name\": \"John\",\n",
    "    \"age\": 30,\n",
    "    \"city\": \"New York\"\n",
    "}\n",
    "# Print the dictionary\n",
    "print(\"Dictionary:\", person)\n"
   ]
  },
  {
   "cell_type": "code",
   "execution_count": 1,
   "id": "0d23977d",
   "metadata": {},
   "outputs": [
    {
     "name": "stdout",
     "output_type": "stream",
     "text": [
      "{'name': 'John', 'age': 25, 'country': 'USA'}\n"
     ]
    }
   ],
   "source": [
    "# 22. Write a code to add a new key-value pair \"country\": \"USA\" to the dictionary {'name': 'John', 'age': 25}.\n",
    "\n",
    "person = {'name': 'John', 'age': 25}\n",
    "person['country'] = 'USA'\n",
    "\n",
    "print(person)\n"
   ]
  },
  {
   "cell_type": "code",
   "execution_count": 2,
   "id": "ea9b9d93",
   "metadata": {},
   "outputs": [
    {
     "name": "stdout",
     "output_type": "stream",
     "text": [
      "Alice\n"
     ]
    }
   ],
   "source": [
    "# 23. Write a code to access the value associated with the key \"name\" in the dictionary {'name': 'Alice', 'age': 30}.\n",
    "\n",
    "person = {'name': 'Alice', 'age': 30}\n",
    "name_value = person['name']\n",
    "\n",
    "print(name_value)\n"
   ]
  },
  {
   "cell_type": "code",
   "execution_count": 3,
   "id": "7f4fe1f5",
   "metadata": {},
   "outputs": [
    {
     "name": "stdout",
     "output_type": "stream",
     "text": [
      "{'name': 'Bob', 'city': 'New York'}\n"
     ]
    }
   ],
   "source": [
    "# 24. Write a code to remove the key \"age\" from the dictionary {'name': 'Bob', 'age': 22, 'city': 'New York'}.\n",
    "\n",
    "person = {'name': 'Bob', 'age': 22, 'city': 'New York'}\n",
    "del person['age']\n",
    "print(person)\n"
   ]
  },
  {
   "cell_type": "code",
   "execution_count": 4,
   "id": "0e332941",
   "metadata": {},
   "outputs": [
    {
     "name": "stdout",
     "output_type": "stream",
     "text": [
      "Key 'city' exists in the dictionary.\n"
     ]
    }
   ],
   "source": [
    "# 25. Write a code to check if the key \"city\" exists in the dictionary {'name': 'Alice', 'city': 'Paris'}.\n",
    "\n",
    "person = {'name': 'Alice', 'city': 'Paris'}\n",
    "\n",
    "if 'city' in person:\n",
    "    print(\"Key 'city' exists in the dictionary.\")\n",
    "else:\n",
    "    print(\"Key 'city' does not exist in the dictionary.\")\n"
   ]
  },
  {
   "cell_type": "code",
   "execution_count": 6,
   "id": "a09ec8f7",
   "metadata": {},
   "outputs": [
    {
     "name": "stdout",
     "output_type": "stream",
     "text": [
      "List: [1, 2, 3, 4, 5]\n",
      "Tuple: ('apple', 'banana', 'cherry')\n",
      "Dictionary: {'name': 'Alice', 'age': 30, 'city': 'Paris'}\n"
     ]
    }
   ],
   "source": [
    "# 26.Write a code to create a list, a tuple, and a dictionary, and print them all.\n",
    "\n",
    "\n",
    "my_list = [1, 2, 3, 4, 5]\n",
    "my_tuple = ('apple', 'banana', 'cherry')\n",
    "my_dict = {'name': 'Alice', 'age': 30, 'city': 'Paris'}\n",
    "print(\"List:\", my_list)\n",
    "print(\"Tuple:\", my_tuple)\n",
    "print(\"Dictionary:\", my_dict)\n"
   ]
  },
  {
   "cell_type": "code",
   "execution_count": 7,
   "id": "33d41dc0",
   "metadata": {},
   "outputs": [
    {
     "name": "stdout",
     "output_type": "stream",
     "text": [
      "Sorted random numbers: [12, 44, 1, 63, 23]\n"
     ]
    }
   ],
   "source": [
    "# 27. Write a code to create a list of 5 random numbers between 1 and 100, sort it in ascending order, and print the result.(replaced)\n",
    "\n",
    "import random\n",
    "random_numbers = [random.randint(1, 100) for _ in range(5)]\n",
    "print(\"Sorted random numbers:\", random_numbers)\n"
   ]
  },
  {
   "cell_type": "code",
   "execution_count": 8,
   "id": "71c6d52a",
   "metadata": {},
   "outputs": [
    {
     "name": "stdout",
     "output_type": "stream",
     "text": [
      "Element at index 3: date\n"
     ]
    }
   ],
   "source": [
    "# 28. Write a code to create a list with strings and print the element at the third index.\n",
    "\n",
    "# Create a list of strings\n",
    "fruits = ['apple', 'banana', 'cherry', 'date', 'elderberry']\n",
    "# Print the element at the third index (indexing starts from 0)\n",
    "print(\"Element at index 3:\", fruits[3])"
   ]
  },
  {
   "cell_type": "code",
   "execution_count": 9,
   "id": "88b97fa6",
   "metadata": {},
   "outputs": [
    {
     "name": "stdout",
     "output_type": "stream",
     "text": [
      "Combined dictionary: {'a': 1, 'b': 2, 'c': 3, 'd': 4}\n"
     ]
    }
   ],
   "source": [
    "# 29. Write a code to combine two dictionaries into one and print the result\n",
    "\n",
    "# Define two dictionaries\n",
    "dict1 = {'a': 1, 'b': 2}\n",
    "dict2 = {'c': 3, 'd': 4}\n",
    "# Combine the dictionaries\n",
    "combined_dict = {**dict1, **dict2}\n",
    "# Print the result\n",
    "print(\"Combined dictionary:\", combined_dict)\n"
   ]
  },
  {
   "cell_type": "code",
   "execution_count": 10,
   "id": "a49428be",
   "metadata": {},
   "outputs": [
    {
     "name": "stdout",
     "output_type": "stream",
     "text": [
      "Set: {'banana', 'cherry', 'apple'}\n"
     ]
    }
   ],
   "source": [
    "# 30. Write a code to convert a list of strings into a set.\n",
    "\n",
    "# Create a list of strings\n",
    "string_list = ['apple', 'banana', 'cherry', 'apple', 'banana']\n",
    "# Convert the list into a set\n",
    "string_set = set(string_list)\n",
    "# Print the result\n",
    "print(\"Set:\", string_set)\n"
   ]
  }
 ],
 "metadata": {
  "kernelspec": {
   "display_name": "Python 3",
   "language": "python",
   "name": "python3"
  },
  "language_info": {
   "codemirror_mode": {
    "name": "ipython",
    "version": 3
   },
   "file_extension": ".py",
   "mimetype": "text/x-python",
   "name": "python",
   "nbconvert_exporter": "python",
   "pygments_lexer": "ipython3",
   "version": "3.13.2"
  }
 },
 "nbformat": 4,
 "nbformat_minor": 5
}
